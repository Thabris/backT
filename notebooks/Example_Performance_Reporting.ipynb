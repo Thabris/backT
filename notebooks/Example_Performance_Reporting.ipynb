{
 "cells": [
  {
   "cell_type": "markdown",
   "metadata": {},
   "source": [
    "# Performance Reporting Example\n",
    "\n",
    "This notebook demonstrates how to use the new `PerformanceReport` module to generate standardized metrics and charts."
   ]
  },
  {
   "cell_type": "code",
   "execution_count": null,
   "metadata": {},
   "outputs": [],
   "source": [
    "import sys\n",
    "sys.path.insert(0, '../')\n",
    "\n",
    "from backt import Backtester, BacktestConfig\n",
    "from backt.reporting import PerformanceReport, ReportConfig\n",
    "import pandas as pd\n",
    "import matplotlib.pyplot as plt\n",
    "\n",
    "%matplotlib inline"
   ]
  },
  {
   "cell_type": "markdown",
   "metadata": {},
   "source": [
    "## 1. Run a Backtest\n",
    "\n",
    "First, let's run a simple moving average crossover strategy."
   ]
  },
  {
   "cell_type": "code",
   "execution_count": null,
   "metadata": {},
   "outputs": [],
   "source": [
    "# Define strategy\n",
    "def ma_crossover_strategy(market_data, current_time, positions, context, params):\n",
    "    \"\"\"Simple moving average crossover strategy\"\"\"\n",
    "    orders = {}\n",
    "    \n",
    "    for symbol, data in market_data.items():\n",
    "        if len(data) < params['slow_window']:\n",
    "            continue\n",
    "        \n",
    "        # Calculate MAs\n",
    "        fast_ma = data['close'].rolling(params['fast_window']).mean().iloc[-1]\n",
    "        slow_ma = data['close'].rolling(params['slow_window']).mean().iloc[-1]\n",
    "        \n",
    "        # Generate signals\n",
    "        if fast_ma > slow_ma:\n",
    "            orders[symbol] = {'action': 'target_weight', 'weight': 0.5}\n",
    "        else:\n",
    "            orders[symbol] = {'action': 'target_weight', 'weight': 0.0}\n",
    "    \n",
    "    return orders"
   ]
  },
  {
   "cell_type": "code",
   "execution_count": null,
   "metadata": {},
   "outputs": [],
   "source": [
    "# Configure backtest\n",
    "backtest_params = {\n",
    "    'start_date': '2020-01-01',\n",
    "    'end_date': '2023-12-31',\n",
    "    'initial_capital': 100000,\n",
    "    'symbols': ['AAPL', 'MSFT']\n",
    "}\n",
    "\n",
    "strategy_params = {\n",
    "    'fast_window': 20,\n",
    "    'slow_window': 50\n",
    "}\n",
    "\n",
    "config = BacktestConfig(\n",
    "    start_date=backtest_params['start_date'],\n",
    "    end_date=backtest_params['end_date'],\n",
    "    initial_capital=backtest_params['initial_capital']\n",
    ")\n",
    "\n",
    "# Run backtest\n",
    "backtester = Backtester(config)\n",
    "result = backtester.run(\n",
    "    strategy_function=ma_crossover_strategy,\n",
    "    symbols=backtest_params['symbols'],\n",
    "    strategy_params=strategy_params\n",
    ")\n",
    "\n",
    "print(\"✅ Backtest complete!\")"
   ]
  },
  {
   "cell_type": "markdown",
   "metadata": {},
   "source": [
    "## 2. Basic Usage - Default Report\n",
    "\n",
    "Generate a complete report with all default sections."
   ]
  },
  {
   "cell_type": "code",
   "execution_count": null,
   "metadata": {},
   "outputs": [],
   "source": [
    "# Create report with defaults\n",
    "report = PerformanceReport(result, initial_capital=backtest_params['initial_capital'])\n",
    "\n",
    "# Print formatted text report\n",
    "report.print_report()"
   ]
  },
  {
   "cell_type": "code",
   "execution_count": null,
   "metadata": {},
   "outputs": [],
   "source": [
    "# Show all charts\n",
    "report.show_charts()"
   ]
  },
  {
   "cell_type": "markdown",
   "metadata": {},
   "source": [
    "## 3. Customized Report Configuration\n",
    "\n",
    "Create a custom report with specific sections and verbose metrics."
   ]
  },
  {
   "cell_type": "code",
   "execution_count": null,
   "metadata": {},
   "outputs": [],
   "source": [
    "# Configure custom report\n",
    "custom_config = ReportConfig(\n",
    "    include_returns=True,\n",
    "    include_risk=True,\n",
    "    include_trading=True,\n",
    "    include_portfolio=True,\n",
    "    include_assessment=True,\n",
    "    verbose_metrics=True,  # Show all available metrics\n",
    "    \n",
    "    # Chart options\n",
    "    include_equity_curve=True,\n",
    "    include_drawdown=True,\n",
    "    include_monthly_returns=True,\n",
    "    include_risk_return=True,\n",
    "    \n",
    "    # Benchmark comparison\n",
    "    benchmark_return=0.08,  # 8% annual return\n",
    "    benchmark_volatility=0.15,  # 15% volatility\n",
    "    benchmark_name=\"S&P 500\"\n",
    ")\n",
    "\n",
    "custom_report = PerformanceReport(\n",
    "    result,\n",
    "    config=custom_config,\n",
    "    initial_capital=backtest_params['initial_capital']\n",
    ")\n",
    "\n",
    "# Print verbose report\n",
    "custom_report.print_report()"
   ]
  },
  {
   "cell_type": "code",
   "execution_count": null,
   "metadata": {},
   "outputs": [],
   "source": [
    "# Show charts with benchmark\n",
    "custom_report.show_charts()"
   ]
  },
  {
   "cell_type": "markdown",
   "metadata": {},
   "source": [
    "## 4. Minimal Report\n",
    "\n",
    "Create a minimal report showing only key metrics."
   ]
  },
  {
   "cell_type": "code",
   "execution_count": null,
   "metadata": {},
   "outputs": [],
   "source": [
    "# Minimal configuration\n",
    "minimal_config = ReportConfig(\n",
    "    include_returns=True,\n",
    "    include_risk=True,\n",
    "    include_trading=False,\n",
    "    include_portfolio=False,\n",
    "    include_assessment=False,\n",
    "    verbose_metrics=False,\n",
    "    \n",
    "    # Only equity and drawdown charts\n",
    "    include_equity_curve=True,\n",
    "    include_drawdown=True,\n",
    "    include_monthly_returns=False,\n",
    "    include_risk_return=False\n",
    ")\n",
    "\n",
    "minimal_report = PerformanceReport(result, config=minimal_config)\n",
    "minimal_report.print_report()"
   ]
  },
  {
   "cell_type": "code",
   "execution_count": null,
   "metadata": {},
   "outputs": [],
   "source": [
    "# Show minimal charts\n",
    "minimal_report.show_charts()"
   ]
  },
  {
   "cell_type": "markdown",
   "metadata": {},
   "source": [
    "## 5. Export Metrics as Dictionary"
   ]
  },
  {
   "cell_type": "code",
   "execution_count": null,
   "metadata": {},
   "outputs": [],
   "source": [
    "# Get metrics as dictionary\n",
    "metrics_dict = report.get_metrics_dict(include_calculated=True)\n",
    "\n",
    "# Display some key metrics\n",
    "print(\"Key Metrics:\")\n",
    "print(f\"Total Return: {metrics_dict['total_return']:.2%}\")\n",
    "print(f\"Sharpe Ratio: {metrics_dict['sharpe_ratio']:.3f}\")\n",
    "print(f\"Max Drawdown: {metrics_dict['max_drawdown']:.2%}\")\n",
    "print(f\"Final Value: ${metrics_dict['final_value']:,.0f}\")\n",
    "print(f\"Profit/Loss: ${metrics_dict['profit_loss']:,.0f}\")"
   ]
  },
  {
   "cell_type": "markdown",
   "metadata": {},
   "source": [
    "## 6. Export Metrics as DataFrame"
   ]
  },
  {
   "cell_type": "code",
   "execution_count": null,
   "metadata": {},
   "outputs": [],
   "source": [
    "# Get metrics as DataFrame (transposed)\n",
    "metrics_df = report.get_metrics_dataframe(transpose=True, include_calculated=True)\n",
    "metrics_df"
   ]
  },
  {
   "cell_type": "code",
   "execution_count": null,
   "metadata": {},
   "outputs": [],
   "source": [
    "# Get as regular DataFrame (columns)\n",
    "metrics_df_cols = report.get_metrics_dataframe(transpose=False)\n",
    "metrics_df_cols"
   ]
  },
  {
   "cell_type": "markdown",
   "metadata": {},
   "source": [
    "## 7. Generate Individual Charts\n",
    "\n",
    "You can also generate and customize individual charts."
   ]
  },
  {
   "cell_type": "code",
   "execution_count": null,
   "metadata": {},
   "outputs": [],
   "source": [
    "# Get the figure object for further customization\n",
    "fig = report.generate_charts(return_fig=True, show_plots=False)\n",
    "\n",
    "# Customize if needed\n",
    "fig.suptitle('My Custom Performance Dashboard', fontsize=18)\n",
    "\n",
    "# Save to file\n",
    "# fig.savefig('performance_report.png', dpi=300, bbox_inches='tight')\n",
    "\n",
    "plt.show()"
   ]
  },
  {
   "cell_type": "markdown",
   "metadata": {},
   "source": [
    "## 8. No Emojis Mode\n",
    "\n",
    "For clean text output without emojis."
   ]
  },
  {
   "cell_type": "code",
   "execution_count": null,
   "metadata": {},
   "outputs": [],
   "source": [
    "# Print report without emojis\n",
    "report.print_report(use_emojis=False)"
   ]
  },
  {
   "cell_type": "markdown",
   "metadata": {},
   "source": [
    "## 9. Using in Streamlit\n",
    "\n",
    "Here's how you would use this in a Streamlit app:\n",
    "\n",
    "```python\n",
    "import streamlit as st\n",
    "from backt.reporting import PerformanceReport, ReportConfig\n",
    "\n",
    "# After running backtest and getting result...\n",
    "\n",
    "# Create report\n",
    "report = PerformanceReport(result, initial_capital=initial_capital)\n",
    "\n",
    "# Display text report\n",
    "st.text(report.format_text_report())\n",
    "\n",
    "# Display charts\n",
    "fig = report.generate_charts(return_fig=True, show_plots=False)\n",
    "st.pyplot(fig)\n",
    "\n",
    "# Display metrics as DataFrame\n",
    "st.subheader(\"Detailed Metrics\")\n",
    "st.dataframe(report.get_metrics_dataframe())\n",
    "```"
   ]
  },
  {
   "cell_type": "markdown",
   "metadata": {},
   "source": [
    "## Summary\n",
    "\n",
    "The `PerformanceReport` module provides:\n",
    "\n",
    "1. **Standardized text reports** with customizable sections\n",
    "2. **Comprehensive visualizations** with flexible chart options\n",
    "3. **Multiple output formats**: text, dict, DataFrame\n",
    "4. **Configurable verbosity** for detailed or minimal reports\n",
    "5. **Benchmark comparison** support\n",
    "6. **Reusable across platforms** (Jupyter, Streamlit, CLI)\n",
    "\n",
    "No more copy-pasting reporting code!"
   ]
  }
 ],
 "metadata": {
  "kernelspec": {
   "display_name": "Python 3",
   "language": "python",
   "name": "python3"
  },
  "language_info": {
   "codemirror_mode": {
    "name": "ipython",
    "version": 3
   },
   "file_extension": ".py",
   "mimetype": "text/x-python",
   "name": "python",
   "nbconvert_exporter": "python",
   "pygments_lexer": "ipython3",
   "version": "3.8.0"
  }
 },
 "nbformat": 4,
 "nbformat_minor": 4
}
