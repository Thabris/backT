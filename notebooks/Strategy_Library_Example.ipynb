{
 "cells": [
  {
   "cell_type": "markdown",
   "metadata": {},
   "source": [
    "# Using the BackT Strategy Library\n",
    "\n",
    "This notebook demonstrates how to use pre-built strategies from the `strategies/` module.\n",
    "\n",
    "## Benefits\n",
    "- No need to rewrite strategy logic in every notebook\n",
    "- Consistent implementation across projects\n",
    "- Easy to compare multiple strategies\n",
    "- Simple parameter tuning"
   ]
  },
  {
   "cell_type": "markdown",
   "metadata": {},
   "source": [
    "## Setup"
   ]
  },
  {
   "cell_type": "code",
   "execution_count": null,
   "metadata": {},
   "outputs": [],
   "source": [
    "# Add parent directory to path\n",
    "import sys\n",
    "from pathlib import Path\n",
    "sys.path.insert(0, str(Path.cwd().parent))\n",
    "\n",
    "# Import BackT\n",
    "from backt import Backtester, BacktestConfig\n",
    "from backt.reporting import PerformanceReport\n",
    "\n",
    "# Import strategies from library\n",
    "from strategies import (\n",
    "    ma_crossover_long_only,\n",
    "    ma_crossover_long_short,\n",
    "    kalman_ma_crossover_long_only,\n",
    "    kalman_ma_crossover_long_short\n",
    ")\n",
    "\n",
    "import pandas as pd\n",
    "\n",
    "print(\"✅ Imports successful!\")\n",
    "print(\"📚 Available strategies: ma_crossover (long/short), kalman_ma_crossover (long/short)\")"
   ]
  },
  {
   "cell_type": "markdown",
   "metadata": {},
   "source": [
    "## Configuration"
   ]
  },
  {
   "cell_type": "code",
   "execution_count": null,
   "metadata": {},
   "outputs": [],
   "source": [
    "# Define universe\n",
    "universe = ['SPY', 'QQQ', 'TLT', 'GLD']\n",
    "\n",
    "# Backtest configuration\n",
    "config = BacktestConfig(\n",
    "    start_date='2020-01-01',\n",
    "    end_date='2023-12-31',\n",
    "    initial_capital=100000.0,\n",
    "    allow_short=True,\n",
    "    max_leverage=2.0,\n",
    "    verbose=False\n",
    ")\n",
    "\n",
    "print(f\"Universe: {universe}\")\n",
    "print(f\"Period: {config.start_date} to {config.end_date}\")\n",
    "print(f\"Initial Capital: ${config.initial_capital:,.0f}\")"
   ]
  },
  {
   "cell_type": "markdown",
   "metadata": {},
   "source": [
    "## Example 1: Single Strategy"
   ]
  },
  {
   "cell_type": "code",
   "execution_count": null,
   "metadata": {},
   "outputs": [],
   "source": [
    "# Define strategy parameters\n",
    "params = {\n",
    "    'fast_ma': 20,\n",
    "    'slow_ma': 50,\n",
    "    'max_position_size': 0.25\n",
    "}\n",
    "\n",
    "# Run backtest\n",
    "backtester = Backtester(config)\n",
    "result = backtester.run(\n",
    "    strategy=ma_crossover_long_only,  # Just pass the function!\n",
    "    universe=universe,\n",
    "    strategy_params=params\n",
    ")\n",
    "\n",
    "# Generate report\n",
    "report = PerformanceReport(result, initial_capital=config.initial_capital)\n",
    "report.print_report()"
   ]
  },
  {
   "cell_type": "markdown",
   "metadata": {},
   "source": [
    "## Example 2: Compare Multiple Strategies"
   ]
  },
  {
   "cell_type": "code",
   "execution_count": null,
   "metadata": {},
   "outputs": [],
   "source": [
    "# Define strategies to compare\n",
    "strategies = {\n",
    "    'MA Long Only': (\n",
    "        ma_crossover_long_only,\n",
    "        {'fast_ma': 20, 'slow_ma': 50, 'max_position_size': 0.25}\n",
    "    ),\n",
    "    'MA Long-Short': (\n",
    "        ma_crossover_long_short,\n",
    "        {'fast_ma': 20, 'slow_ma': 50, 'max_position_size': 0.25}\n",
    "    ),\n",
    "    'Kalman Long Only': (\n",
    "        kalman_ma_crossover_long_only,\n",
    "        {'Q_fast': 0.01, 'Q_slow': 0.001, 'R': 1.0, 'max_position_size': 0.25}\n",
    "    ),\n",
    "    'Kalman Long-Short': (\n",
    "        kalman_ma_crossover_long_short,\n",
    "        {'Q_fast': 0.01, 'Q_slow': 0.001, 'R': 1.0, 'max_position_size': 0.25}\n",
    "    )\n",
    "}\n",
    "\n",
    "# Run all strategies\n",
    "results = {}\n",
    "backtester = Backtester(config)\n",
    "\n",
    "for name, (strategy_func, params) in strategies.items():\n",
    "    print(f\"\\nRunning: {name}...\")\n",
    "    result = backtester.run(\n",
    "        strategy=strategy_func,\n",
    "        universe=universe,\n",
    "        strategy_params=params\n",
    "    )\n",
    "    results[name] = result\n",
    "    \n",
    "print(\"\\n✅ All strategies completed!\")"
   ]
  },
  {
   "cell_type": "code",
   "execution_count": null,
   "metadata": {},
   "outputs": [],
   "source": [
    "# Compare performance\n",
    "comparison = pd.DataFrame({\n",
    "    name: {\n",
    "        'Final Value': result.equity_curve['total_value'].iloc[-1],\n",
    "        'Total Return': (result.equity_curve['total_value'].iloc[-1] / 100000 - 1) * 100,\n",
    "        'Num Trades': len(result.trades),\n",
    "        'Avg Trade': result.equity_curve['total_value'].iloc[-1] / len(result.trades) if len(result.trades) > 0 else 0\n",
    "    }\n",
    "    for name, result in results.items()\n",
    "}).T\n",
    "\n",
    "comparison = comparison.round(2)\n",
    "comparison['Final Value'] = comparison['Final Value'].apply(lambda x: f\"${x:,.0f}\")\n",
    "comparison['Total Return'] = comparison['Total Return'].apply(lambda x: f\"{x:.2f}%\")\n",
    "comparison['Num Trades'] = comparison['Num Trades'].astype(int)\n",
    "\n",
    "print(\"\\n📊 Strategy Comparison:\")\n",
    "print(\"=\" * 70)\n",
    "print(comparison)"
   ]
  },
  {
   "cell_type": "markdown",
   "metadata": {},
   "source": [
    "## Example 3: Parameter Sweep"
   ]
  },
  {
   "cell_type": "code",
   "execution_count": null,
   "metadata": {},
   "outputs": [],
   "source": [
    "# Test different MA periods\n",
    "ma_combinations = [\n",
    "    (10, 30),\n",
    "    (20, 50),\n",
    "    (50, 200)\n",
    "]\n",
    "\n",
    "sweep_results = {}\n",
    "backtester = Backtester(config)\n",
    "\n",
    "for fast, slow in ma_combinations:\n",
    "    params = {\n",
    "        'fast_ma': fast,\n",
    "        'slow_ma': slow,\n",
    "        'max_position_size': 0.25\n",
    "    }\n",
    "    \n",
    "    result = backtester.run(\n",
    "        strategy=ma_crossover_long_only,\n",
    "        universe=universe,\n",
    "        strategy_params=params\n",
    "    )\n",
    "    \n",
    "    sweep_results[f\"MA({fast},{slow})\"] = result\n",
    "\n",
    "# Display results\n",
    "sweep_comparison = pd.DataFrame({\n",
    "    name: {\n",
    "        'Return %': (result.equity_curve['total_value'].iloc[-1] / 100000 - 1) * 100,\n",
    "        'Num Trades': len(result.trades)\n",
    "    }\n",
    "    for name, result in sweep_results.items()\n",
    "}).T\n",
    "\n",
    "print(\"\\n📊 MA Parameter Sweep:\")\n",
    "print(\"=\" * 40)\n",
    "print(sweep_comparison.round(2))"
   ]
  },
  {
   "cell_type": "markdown",
   "metadata": {},
   "source": [
    "## Summary\n",
    "\n",
    "**Benefits of Strategy Library:**\n",
    "- ✅ Clean, reusable code\n",
    "- ✅ Easy to compare strategies\n",
    "- ✅ Simple parameter tuning\n",
    "- ✅ Consistent implementation\n",
    "- ✅ Quick notebook prototyping\n",
    "\n",
    "**Next Steps:**\n",
    "- Try different parameter combinations\n",
    "- Add your own strategies to the library\n",
    "- Compare against benchmarks\n",
    "- Optimize with walk-forward analysis"
   ]
  }
 ],
 "metadata": {
  "kernelspec": {
   "display_name": "Python 3",
   "language": "python",
   "name": "python3"
  },
  "language_info": {
   "name": "python",
   "version": "3.10.0"
  }
 },
 "nbformat": 4,
 "nbformat_minor": 4
}
