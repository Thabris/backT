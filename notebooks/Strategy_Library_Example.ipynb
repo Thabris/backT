{
 "cells": [
  {
   "cell_type": "markdown",
   "metadata": {},
   "source": [
    "# Using the BackT Strategy Library\n",
    "\n",
    "This notebook demonstrates how to use pre-built strategies from the `strategies/` module.\n",
    "\n",
    "## Benefits\n",
    "- No need to rewrite strategy logic in every notebook\n",
    "- Consistent implementation across projects\n",
    "- Easy to compare multiple strategies\n",
    "- Simple parameter tuning"
   ]
  },
  {
   "cell_type": "markdown",
   "metadata": {},
   "source": [
    "## Setup"
   ]
  },
  {
   "cell_type": "code",
   "execution_count": 3,
   "metadata": {},
   "outputs": [
    {
     "name": "stdout",
     "output_type": "stream",
     "text": [
      "✅ Imports successful!\n",
      "📚 Available strategies: ma_crossover (long/short), kalman_ma_crossover (long/short)\n"
     ]
    }
   ],
   "source": [
    "# Add parent directory to path\n",
    "import sys\n",
    "from pathlib import Path\n",
    "sys.path.insert(0, str(Path.cwd().parent))\n",
    "\n",
    "# Import BackT\n",
    "from backt import Backtester, BacktestConfig\n",
    "from backt.reporting import PerformanceReport\n",
    "\n",
    "# Import strategies from library\n",
    "from strategies import (\n",
    "    ma_crossover_long_only,\n",
    "    ma_crossover_long_short,\n",
    "    kalman_ma_crossover_long_only,\n",
    "    kalman_ma_crossover_long_short\n",
    ")\n",
    "\n",
    "import pandas as pd\n",
    "\n",
    "print(\"✅ Imports successful!\")\n",
    "print(\"📚 Available strategies: ma_crossover (long/short), kalman_ma_crossover (long/short)\")"
   ]
  },
  {
   "cell_type": "markdown",
   "metadata": {},
   "source": [
    "## Configuration"
   ]
  },
  {
   "cell_type": "code",
   "execution_count": 5,
   "metadata": {},
   "outputs": [
    {
     "name": "stdout",
     "output_type": "stream",
     "text": [
      "Universe: ['SPY', 'QQQ', 'TLT', 'GLD']\n",
      "Period: 2020-01-01 to 2023-12-31\n",
      "Initial Capital: $100,000\n"
     ]
    }
   ],
   "source": [
    "# Define universe\n",
    "universe = ['SPY', 'QQQ', 'TLT', 'GLD']\n",
    "\n",
    "# Backtest configuration\n",
    "config = BacktestConfig(\n",
    "    start_date='2020-01-01',\n",
    "    end_date='2023-12-31',\n",
    "    initial_capital=100000.0,\n",
    "    allow_short=True,\n",
    "    max_leverage=2.0,\n",
    "    verbose=False\n",
    ")\n",
    "\n",
    "print(f\"Universe: {universe}\")\n",
    "print(f\"Period: {config.start_date} to {config.end_date}\")\n",
    "print(f\"Initial Capital: ${config.initial_capital:,.0f}\")"
   ]
  },
  {
   "cell_type": "markdown",
   "metadata": {},
   "source": [
    "## Example 1: Single Strategy"
   ]
  },
  {
   "cell_type": "code",
   "execution_count": 7,
   "metadata": {},
   "outputs": [
    {
     "name": "stderr",
     "output_type": "stream",
     "text": [
      "[*********************100%***********************]  4 of 4 completed\n"
     ]
    },
    {
     "name": "stdout",
     "output_type": "stream",
     "text": [
      "📊 PERFORMANCE ANALYSIS\n",
      "==================================================\n",
      "\n",
      "📈 RETURN METRICS:\n",
      "-------------------------\n",
      "Total Return:               21.44%\n",
      "Annualized Return:           1.16%\n",
      "CAGR:                        1.01%\n",
      "\n",
      "⚠️  RISK METRICS:\n",
      "--------------------\n",
      "Volatility:                  5.59%\n",
      "Sharpe Ratio:                0.208\n",
      "Sortino Ratio:               0.282\n",
      "Maximum Drawdown:          -25.72%\n",
      "Calmar Ratio:                0.039\n",
      "\n",
      "📊 TRADING ACTIVITY:\n",
      "------------------------\n",
      "Total Trades:                 2075\n",
      "Win Rate:                    74.4%\n",
      "Profit Factor:                2.64\n",
      "Average Trade:               0.00%\n",
      "\n",
      "💼 PORTFOLIO SUMMARY:\n",
      "-------------------------\n",
      "Initial Capital:          $   100,000\n",
      "Final Value:              $   121,443\n",
      "Profit/Loss:              $    21,443\n",
      "\n",
      "🎯 PERFORMANCE ASSESSMENT:\n",
      "------------------------------\n",
      "Sharpe Rating:            Fair (0.21)\n",
      "Risk Rating:              High Risk (-25.7% max DD)\n",
      "\n",
      "📊 BENCHMARK COMPARISON:\n",
      "-------------------------\n",
      "Benchmark:                SPY (Buy & Hold)\n",
      "Benchmark Return:           56.26%\n",
      "Benchmark Final Value:    $   156,262\n",
      "Benchmark Profit:         $    56,262\n",
      "\n",
      "Outperformance:            -34.82% (📉)\n",
      "Excess Profit:            $   -34,819\n",
      "\n",
      "✅ Strategy was PROFITABLE with $21,443 gains\n"
     ]
    }
   ],
   "source": [
    "# Define strategy parameters\n",
    "params = {\n",
    "    'fast_ma': 20,\n",
    "    'slow_ma': 50,\n",
    "    'max_position_size': 0.25\n",
    "}\n",
    "\n",
    "# Run backtest\n",
    "backtester = Backtester(config)\n",
    "result = backtester.run(\n",
    "    strategy=ma_crossover_long_only,  # Just pass the function!\n",
    "    universe=universe,\n",
    "    strategy_params=params\n",
    ")\n",
    "\n",
    "# Generate report\n",
    "report = PerformanceReport(result, initial_capital=config.initial_capital)\n",
    "report.print_report()"
   ]
  },
  {
   "cell_type": "markdown",
   "metadata": {},
   "source": [
    "## Example 2: Compare Multiple Strategies"
   ]
  },
  {
   "cell_type": "code",
   "execution_count": 9,
   "metadata": {},
   "outputs": [
    {
     "name": "stdout",
     "output_type": "stream",
     "text": [
      "\n",
      "Running: MA Long Only...\n"
     ]
    },
    {
     "name": "stderr",
     "output_type": "stream",
     "text": [
      "[*********************100%***********************]  4 of 4 completed\n",
      "[                       0%                       ]"
     ]
    },
    {
     "name": "stdout",
     "output_type": "stream",
     "text": [
      "\n",
      "Running: MA Long-Short...\n"
     ]
    },
    {
     "name": "stderr",
     "output_type": "stream",
     "text": [
      "[*********************100%***********************]  4 of 4 completed\n",
      "[**********************50%                       ]  2 of 4 completed"
     ]
    },
    {
     "name": "stdout",
     "output_type": "stream",
     "text": [
      "\n",
      "Running: Kalman Long Only...\n"
     ]
    },
    {
     "name": "stderr",
     "output_type": "stream",
     "text": [
      "[*********************100%***********************]  4 of 4 completed\n",
      "[**********************50%                       ]  2 of 4 completed"
     ]
    },
    {
     "name": "stdout",
     "output_type": "stream",
     "text": [
      "\n",
      "Running: Kalman Long-Short...\n"
     ]
    },
    {
     "name": "stderr",
     "output_type": "stream",
     "text": [
      "[*********************100%***********************]  4 of 4 completed\n"
     ]
    },
    {
     "name": "stdout",
     "output_type": "stream",
     "text": [
      "\n",
      "✅ All strategies completed!\n"
     ]
    }
   ],
   "source": [
    "# Define strategies to compare\n",
    "strategies = {\n",
    "    'MA Long Only': (\n",
    "        ma_crossover_long_only,\n",
    "        {'fast_ma': 20, 'slow_ma': 50, 'max_position_size': 0.25}\n",
    "    ),\n",
    "    'MA Long-Short': (\n",
    "        ma_crossover_long_short,\n",
    "        {'fast_ma': 20, 'slow_ma': 50, 'max_position_size': 0.25}\n",
    "    ),\n",
    "    'Kalman Long Only': (\n",
    "        kalman_ma_crossover_long_only,\n",
    "        {'Q_fast': 0.01, 'Q_slow': 0.001, 'R': 1.0, 'max_position_size': 0.25}\n",
    "    ),\n",
    "    'Kalman Long-Short': (\n",
    "        kalman_ma_crossover_long_short,\n",
    "        {'Q_fast': 0.01, 'Q_slow': 0.001, 'R': 1.0, 'max_position_size': 0.25}\n",
    "    )\n",
    "}\n",
    "\n",
    "# Run all strategies\n",
    "results = {}\n",
    "backtester = Backtester(config)\n",
    "\n",
    "for name, (strategy_func, params) in strategies.items():\n",
    "    print(f\"\\nRunning: {name}...\")\n",
    "    result = backtester.run(\n",
    "        strategy=strategy_func,\n",
    "        universe=universe,\n",
    "        strategy_params=params\n",
    "    )\n",
    "    results[name] = result\n",
    "    \n",
    "print(\"\\n✅ All strategies completed!\")"
   ]
  },
  {
   "cell_type": "code",
   "execution_count": null,
   "metadata": {},
   "outputs": [],
   "source": "# Compare performance\ncomparison = pd.DataFrame({\n    name: {\n        'Final Value': result.equity_curve['total_equity'].iloc[-1],\n        'Total Return': (result.equity_curve['total_equity'].iloc[-1] / 100000 - 1) * 100,\n        'Num Trades': len(result.trades),\n        'Avg Trade': result.equity_curve['total_equity'].iloc[-1] / len(result.trades) if len(result.trades) > 0 else 0\n    }\n    for name, result in results.items()\n}).T\n\ncomparison = comparison.round(2)\ncomparison['Final Value'] = comparison['Final Value'].apply(lambda x: f\"${x:,.0f}\")\ncomparison['Total Return'] = comparison['Total Return'].apply(lambda x: f\"{x:.2f}%\")\ncomparison['Num Trades'] = comparison['Num Trades'].astype(int)\n\nprint(\"\\n📊 Strategy Comparison:\")\nprint(\"=\" * 70)\nprint(comparison)"
  },
  {
   "cell_type": "markdown",
   "metadata": {},
   "source": [
    "## Example 3: Parameter Sweep"
   ]
  },
  {
   "cell_type": "code",
   "execution_count": null,
   "metadata": {},
   "outputs": [],
   "source": "# Test different MA periods\nma_combinations = [\n    (10, 30),\n    (20, 50),\n    (50, 200)\n]\n\nsweep_results = {}\nbacktester = Backtester(config)\n\nfor fast, slow in ma_combinations:\n    params = {\n        'fast_ma': fast,\n        'slow_ma': slow,\n        'max_position_size': 0.25\n    }\n    \n    result = backtester.run(\n        strategy=ma_crossover_long_only,\n        universe=universe,\n        strategy_params=params\n    )\n    \n    sweep_results[f\"MA({fast},{slow})\"] = result\n\n# Display results\nsweep_comparison = pd.DataFrame({\n    name: {\n        'Return %': (result.equity_curve['total_equity'].iloc[-1] / 100000 - 1) * 100,\n        'Num Trades': len(result.trades)\n    }\n    for name, result in sweep_results.items()\n}).T\n\nprint(\"\\n📊 MA Parameter Sweep:\")\nprint(\"=\" * 40)\nprint(sweep_comparison.round(2))"
  },
  {
   "cell_type": "markdown",
   "metadata": {},
   "source": [
    "## Summary\n",
    "\n",
    "**Benefits of Strategy Library:**\n",
    "- ✅ Clean, reusable code\n",
    "- ✅ Easy to compare strategies\n",
    "- ✅ Simple parameter tuning\n",
    "- ✅ Consistent implementation\n",
    "- ✅ Quick notebook prototyping\n",
    "\n",
    "**Next Steps:**\n",
    "- Try different parameter combinations\n",
    "- Add your own strategies to the library\n",
    "- Compare against benchmarks\n",
    "- Optimize with walk-forward analysis"
   ]
  }
 ],
 "metadata": {
  "kernelspec": {
   "display_name": "Python [conda env:.conda-backt]",
   "language": "python",
   "name": "conda-env-.conda-backt-py"
  },
  "language_info": {
   "codemirror_mode": {
    "name": "ipython",
    "version": 3
   },
   "file_extension": ".py",
   "mimetype": "text/x-python",
   "name": "python",
   "nbconvert_exporter": "python",
   "pygments_lexer": "ipython3",
   "version": "3.11.5"
  }
 },
 "nbformat": 4,
 "nbformat_minor": 4
}